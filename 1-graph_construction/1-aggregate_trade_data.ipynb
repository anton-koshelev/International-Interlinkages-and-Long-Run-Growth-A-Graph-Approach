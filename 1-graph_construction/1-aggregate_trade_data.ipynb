{
 "cells": [
  {
   "cell_type": "markdown",
   "metadata": {},
   "source": [
    "### Notebook 1 - trade data aggregation"
   ]
  },
  {
   "cell_type": "code",
   "execution_count": 1,
   "metadata": {},
   "outputs": [],
   "source": [
    "import pandas as pd\n",
    "import os"
   ]
  },
  {
   "cell_type": "code",
   "execution_count": 2,
   "metadata": {},
   "outputs": [
    {
     "name": "stdout",
     "output_type": "stream",
     "text": [
      "1997-1999.csv\n",
      "2019-2020.csv\n",
      "2021.csv\n",
      "1994-1996.csv\n",
      "2000-2002.csv\n",
      "1986-1990.csv\n",
      "2012-2014.csv\n",
      "1991-1993.csv\n",
      "2017-2018.csv\n",
      "2006-2008.csv\n",
      "2015-2016.csv\n",
      "2003-2005.csv\n",
      "2009-2011.csv\n",
      "resulting dataframe shape: (634509, 7)\n"
     ]
    }
   ],
   "source": [
    "dfs = []\n",
    "\n",
    "# columns of interest\n",
    "colnames = ['ReporterISO3', \n",
    "            'ReporterName', \n",
    "            'PartnerISO3', \n",
    "            'PartnerName', \n",
    "            'Year', \n",
    "            'TradeFlowName', \n",
    "            'TradeValue in 1000 USD']\n",
    "\n",
    "# iteratively collect partial dataframes\n",
    "for filename in os.listdir('data/trade_raw/'):\n",
    "    if filename[-4:] == '.csv':\n",
    "        print(filename)\n",
    "        df = pd.read_csv(f'data/trade_raw/{filename}', encoding='cp1251')[colnames]\n",
    "        dfs.append(df)\n",
    "        \n",
    "# combine partial dataframes and sort rows by 'ReporterName'\n",
    "trade = pd.concat(objs=dfs, axis=0)\n",
    "print('resulting dataframe shape:', trade.shape)\n",
    "trade = trade.sort_values(by='ReporterName').reset_index(drop=True)\n",
    "\n",
    "# save resulting dataset, which includes all years\n",
    "trade.to_csv('data/preprocessed/trade_1988_2021.csv', index=False)"
   ]
  },
  {
   "cell_type": "code",
   "execution_count": null,
   "metadata": {},
   "outputs": [],
   "source": []
  }
 ],
 "metadata": {
  "kernelspec": {
   "display_name": "Python 3 (ipykernel)",
   "language": "python",
   "name": "python3"
  },
  "language_info": {
   "codemirror_mode": {
    "name": "ipython",
    "version": 3
   },
   "file_extension": ".py",
   "mimetype": "text/x-python",
   "name": "python",
   "nbconvert_exporter": "python",
   "pygments_lexer": "ipython3",
   "version": "3.10.5"
  }
 },
 "nbformat": 4,
 "nbformat_minor": 4
}
