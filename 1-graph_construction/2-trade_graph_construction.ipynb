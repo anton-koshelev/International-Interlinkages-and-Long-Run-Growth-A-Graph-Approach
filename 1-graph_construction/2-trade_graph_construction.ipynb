{
 "cells": [
  {
   "cell_type": "markdown",
   "metadata": {},
   "source": [
    "### Notebook 2 - trade graphs construction"
   ]
  },
  {
   "cell_type": "code",
   "execution_count": 1,
   "metadata": {},
   "outputs": [],
   "source": [
    "import pandas as pd\n",
    "import numpy as np\n",
    "import networkx as nx\n",
    "from networkx.readwrite import json_graph\n",
    "import json\n",
    "from tqdm import tqdm_notebook as tqdm\n",
    "import warnings\n",
    "warnings.filterwarnings('ignore')"
   ]
  },
  {
   "cell_type": "code",
   "execution_count": 2,
   "metadata": {},
   "outputs": [],
   "source": [
    "# aggregated trade dataset\n",
    "df = pd.read_csv('data/preprocessed/trade_1988_2021.csv')"
   ]
  },
  {
   "cell_type": "code",
   "execution_count": 3,
   "metadata": {},
   "outputs": [
    {
     "data": {
      "application/vnd.jupyter.widget-view+json": {
       "model_id": "dce241178c7c4c2b951f892e6708dac1",
       "version_major": 2,
       "version_minor": 0
      },
      "text/plain": [
       "  0%|          | 0/34 [00:00<?, ?it/s]"
      ]
     },
     "metadata": {},
     "output_type": "display_data"
    }
   ],
   "source": [
    "for y in tqdm(sorted(pd.unique(df['Year']))):\n",
    "    y_df = df.loc[df['Year'] == y].reset_index(drop=True)\n",
    "    \n",
    "    # initialize directed graph\n",
    "    graph = nx.DiGraph(year=int(y))\n",
    "    \n",
    "    # reporters or partners to exclude from the network\n",
    "    to_exclude = ['European Union', 'Other Asia, nes', 'Other Asia', 'Reunion', 'Unspecified', \n",
    "                  ' World', 'World', 'Curaзao']\n",
    "    \n",
    "    # iteratively add nodes for each year\n",
    "    for i in range(y_df.shape[0]):\n",
    "        reporter = y_df['ReporterName'].iloc[i]\n",
    "        partner = y_df['PartnerName'].iloc[i]\n",
    "        if reporter not in to_exclude:\n",
    "            if partner not in to_exclude:\n",
    "                u = y_df['ReporterISO3'].iloc[i]\n",
    "                v = y_df['PartnerISO3'].iloc[i]\n",
    "                w = y_df['TradeValue in 1000 USD'].iloc[i]\n",
    "                graph.add_edge(u, v)\n",
    "                graph[u][v]['TradeValue in 1000 USD'] = w\n",
    "    \n",
    "    # save graph in json format\n",
    "    with open(f'data/preprocessed/trade_graphs/export_graph_{int(y)}.json', 'w') as file:\n",
    "        json.dump(json_graph.node_link_data(graph), file, indent=4)\n",
    "        \n",
    "    del graph"
   ]
  },
  {
   "cell_type": "code",
   "execution_count": null,
   "metadata": {},
   "outputs": [],
   "source": []
  }
 ],
 "metadata": {
  "kernelspec": {
   "display_name": "Python 3 (ipykernel)",
   "language": "python",
   "name": "python3"
  },
  "language_info": {
   "codemirror_mode": {
    "name": "ipython",
    "version": 3
   },
   "file_extension": ".py",
   "mimetype": "text/x-python",
   "name": "python",
   "nbconvert_exporter": "python",
   "pygments_lexer": "ipython3",
   "version": "3.10.5"
  }
 },
 "nbformat": 4,
 "nbformat_minor": 4
}
