{
 "cells": [
  {
   "cell_type": "markdown",
   "metadata": {},
   "source": [
    "### Notebook 4 - technology graph construciton. Solution 2"
   ]
  },
  {
   "cell_type": "code",
   "execution_count": 1,
   "metadata": {},
   "outputs": [],
   "source": [
    "import pandas as pd\n",
    "import numpy as np\n",
    "import networkx as nx\n",
    "from networkx.readwrite import json_graph\n",
    "import json\n",
    "from tqdm import tqdm_notebook as tqdm\n",
    "import warnings\n",
    "warnings.filterwarnings('ignore')"
   ]
  },
  {
   "cell_type": "code",
   "execution_count": 2,
   "metadata": {},
   "outputs": [],
   "source": [
    "pat = pd.read_csv('data/technology_raw/apat63_99_iso3.csv')\n",
    "cite = pd.read_csv('data/technology_raw/cite75_99.csv')"
   ]
  },
  {
   "cell_type": "code",
   "execution_count": 3,
   "metadata": {},
   "outputs": [],
   "source": [
    "# patent dataframe with patent ids as indices\n",
    "pat_idx = pat.set_index(pat['PATENT'])"
   ]
  },
  {
   "cell_type": "code",
   "execution_count": 4,
   "metadata": {},
   "outputs": [
    {
     "data": {
      "application/vnd.jupyter.widget-view+json": {
       "model_id": "d295fe29236b47eeac8e355cdafaf3be",
       "version_major": 2,
       "version_minor": 0
      },
      "text/plain": [
       "  0%|          | 0/26 [00:00<?, ?it/s]"
      ]
     },
     "metadata": {},
     "output_type": "display_data"
    }
   ],
   "source": [
    "for y in tqdm(pd.unique(pat['GYEAR'])[11:]):\n",
    "    # selected year\n",
    "    y_pat = pat.loc[pat['GYEAR'] == y].reset_index(drop=True)\n",
    "    # all citations made by granted patents in this year\n",
    "    y_cite = cite.loc[np.isin(cite['CITING'].values, y_pat['PATENT'].values)].reset_index(drop=True)\n",
    "    if y_cite.shape[0] > 0:\n",
    "        # appending citing_country and cited_country\n",
    "        ### before that, select cited patents that are present in the \"pat\" dataframe (filtering step)\n",
    "        cited_all = y_cite.loc[np.isin(y_cite['CITING'].values, y_pat['PATENT'].values)].reset_index(drop=True)['CITED'].values\n",
    "        cited_exist = cited_all[np.isin(cited_all, pat_idx.index)]\n",
    "        y_cite = y_cite.loc[np.isin(y_cite['CITED'].values, cited_exist)]\n",
    "        ###\n",
    "        y_cite['citing_country'] = pat_idx.loc[y_cite.loc[np.isin(y_cite['CITING'].values, y_pat['PATENT'].values)]['CITING']]['COUNTRY_ISO3'].values\n",
    "        y_cite['cited_country'] = pat_idx.loc[cited_exist]['COUNTRY_ISO3'].values\n",
    "        # determine unique citing countries for this year\n",
    "        unique_citing = pd.unique(y_cite['citing_country']) \n",
    "        # initialize a directed graph\n",
    "        graph = nx.DiGraph(year=int(y))\n",
    "        # initialize citation dict to keep track of multiple observations for signle country\n",
    "        citations_dict = {}\n",
    "        # iterate through all unique citing countries and calculate sum of observations with other countries\n",
    "        for citing in unique_citing:\n",
    "            y_cite_country = y_cite.loc[y_cite['citing_country']==citing]\n",
    "            for pair_country in pd.unique(y_cite_country['cited_country']):\n",
    "                y_cite_cc = y_cite_country.loc[y_cite_country['cited_country']==pair_country]\n",
    "                if y_cite_cc.shape[0] > 0:\n",
    "                    number_citations = y_cite_cc.shape[0]\n",
    "                    country_pair = pair_country + '-' + citing\n",
    "                    if country_pair not in citations_dict.keys():\n",
    "                        citations_dict[country_pair] = number_citations\n",
    "                    else:\n",
    "                        citations_dict[country_pair] += number_citations\n",
    "\n",
    "        for cc in citations_dict.keys():\n",
    "            cc_list = cc.split('-')\n",
    "            country_cited = cc_list[0]\n",
    "            country_citing = cc_list[1]\n",
    "            number_citations = citations_dict[cc]\n",
    "            graph.add_edge(country_cited, country_citing)\n",
    "            graph[country_cited][country_citing]['Number Citations'] = int(number_citations)\n",
    "\n",
    "        with open(f'data/preprocessed/technology_graphs_2/technology_graph_{int(y)}.json', 'w') as file:\n",
    "            json.dump(json_graph.node_link_data(graph), file, indent=4)\n",
    "\n",
    "        del graph, y_pat, y_cite, cited_all, cited_exist, unique_citing, citations_dict"
   ]
  },
  {
   "cell_type": "code",
   "execution_count": null,
   "metadata": {},
   "outputs": [],
   "source": []
  }
 ],
 "metadata": {
  "kernelspec": {
   "display_name": "Python 3 (ipykernel)",
   "language": "python",
   "name": "python3"
  },
  "language_info": {
   "codemirror_mode": {
    "name": "ipython",
    "version": 3
   },
   "file_extension": ".py",
   "mimetype": "text/x-python",
   "name": "python",
   "nbconvert_exporter": "python",
   "pygments_lexer": "ipython3",
   "version": "3.10.5"
  }
 },
 "nbformat": 4,
 "nbformat_minor": 4
}
