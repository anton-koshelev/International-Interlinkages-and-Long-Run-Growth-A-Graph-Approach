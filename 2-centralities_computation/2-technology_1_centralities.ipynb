{
 "cells": [
  {
   "cell_type": "markdown",
   "metadata": {},
   "source": [
    "### Notebook 2 - centralities of technology graphs (solution 1)"
   ]
  },
  {
   "cell_type": "code",
   "execution_count": 1,
   "metadata": {},
   "outputs": [],
   "source": [
    "from networkx.readwrite import json_graph\n",
    "from tqdm import tqdm_notebook as tqdm\n",
    "import matplotlib.pyplot as plt\n",
    "import networkx as nx\n",
    "import pandas as pd\n",
    "import numpy as np\n",
    "import warnings\n",
    "import json\n",
    "import os\n",
    "\n",
    "warnings.filterwarnings('ignore')\n",
    "year_start = 1963\n",
    "year_end = 1999\n",
    "years = range(year_start, year_end + 1)\n",
    "graph_folder = '/Users/koshelev/Documents/lmu/thesis/1-graph_construction/data/preprocessed/technology_graphs_1/'\n",
    "output_folder = 'computed_centralities/technology1/'\n",
    "weight = 'Number Citations'\n",
    "seed = 100"
   ]
  },
  {
   "cell_type": "code",
   "execution_count": 2,
   "metadata": {},
   "outputs": [],
   "source": [
    "# function to read graph in json format\n",
    "def read_json_file(filename: str) -> nx.Graph:\n",
    "    with open(filename) as f:\n",
    "        js_graph = json.load(f)\n",
    "    return json_graph.node_link_graph(js_graph)"
   ]
  },
  {
   "cell_type": "code",
   "execution_count": 3,
   "metadata": {},
   "outputs": [],
   "source": [
    "# get all node names present in the dataset\n",
    "unique_nodes = set()\n",
    "for filename in os.listdir(graph_folder):\n",
    "    if filename[-5:] == '.json':\n",
    "        g = read_json_file(graph_folder + filename)\n",
    "        nodes = set(g.nodes())\n",
    "        unique_nodes = unique_nodes.union(nodes)"
   ]
  },
  {
   "cell_type": "code",
   "execution_count": 4,
   "metadata": {},
   "outputs": [
    {
     "data": {
      "application/vnd.jupyter.widget-view+json": {
       "model_id": "85e07103117b4ebc9d3b606a580deb5e",
       "version_major": 2,
       "version_minor": 0
      },
      "text/plain": [
       "  0%|          | 0/37 [00:00<?, ?it/s]"
      ]
     },
     "metadata": {},
     "output_type": "display_data"
    },
    {
     "data": {
      "application/vnd.jupyter.widget-view+json": {
       "model_id": "3de6faf0f0904855974889e713e4867c",
       "version_major": 2,
       "version_minor": 0
      },
      "text/plain": [
       "  0%|          | 0/37 [00:00<?, ?it/s]"
      ]
     },
     "metadata": {},
     "output_type": "display_data"
    }
   ],
   "source": [
    "# pagerank centrality - unweighted\n",
    "pagerank_df_uw = pd.DataFrame(index=years, columns=unique_nodes)\n",
    "for y in tqdm(years):\n",
    "    y_graph = read_json_file(graph_folder + f'technology_graph_{int(y)}.json')\n",
    "    try:\n",
    "        try:\n",
    "            pagerank_centr = nx.pagerank(G=y_graph, weight=None, max_iter=10**3)\n",
    "        except:\n",
    "            pagerank_centr = nx.pagerank(G=y_graph, weight=None, max_iter=10**3, tol=1e-2)\n",
    "        for col in pagerank_df_uw.columns:\n",
    "            try:\n",
    "                pagerank_df_uw.loc[y][col] = pagerank_centr[col]\n",
    "            except:\n",
    "                pass\n",
    "    except:\n",
    "        pass\n",
    "    \n",
    "\n",
    "# pagerank centrality - weighted\n",
    "pagerank_df = pd.DataFrame(index=years, columns=unique_nodes)\n",
    "for y in tqdm(years):\n",
    "    y_graph = read_json_file(graph_folder + f'technology_graph_{int(y)}.json')\n",
    "    try:\n",
    "        try:\n",
    "            pagerank_centr = nx.pagerank(G=y_graph, weight=weight, max_iter=10**3)\n",
    "        except:\n",
    "            pagerank_centr = nx.pagerank(G=y_graph, weight=weight, max_iter=10**3, tol=1e-2)\n",
    "        for col in pagerank_df.columns:\n",
    "            try:\n",
    "                pagerank_df.loc[y][col] = pagerank_centr[col]\n",
    "            except:\n",
    "                pass\n",
    "    except:\n",
    "        pass"
   ]
  },
  {
   "cell_type": "code",
   "execution_count": 5,
   "metadata": {},
   "outputs": [
    {
     "data": {
      "application/vnd.jupyter.widget-view+json": {
       "model_id": "484ffdd502624450bce6a3387ea2e1d8",
       "version_major": 2,
       "version_minor": 0
      },
      "text/plain": [
       "  0%|          | 0/37 [00:00<?, ?it/s]"
      ]
     },
     "metadata": {},
     "output_type": "display_data"
    }
   ],
   "source": [
    "# degree centrality\n",
    "degree_centr_df = pd.DataFrame(index=years, columns=unique_nodes)\n",
    "for y in tqdm(years):\n",
    "    y_graph = read_json_file(graph_folder + f'technology_graph_{int(y)}.json')\n",
    "    degree_centr = nx.degree_centrality(G=y_graph)\n",
    "    for col in degree_centr_df.columns:\n",
    "        try:\n",
    "            degree_centr_df.loc[y][col] = degree_centr[col]\n",
    "        except:\n",
    "            pass"
   ]
  },
  {
   "cell_type": "code",
   "execution_count": 6,
   "metadata": {},
   "outputs": [
    {
     "data": {
      "application/vnd.jupyter.widget-view+json": {
       "model_id": "b7966319aba5432eacbf4e153b238267",
       "version_major": 2,
       "version_minor": 0
      },
      "text/plain": [
       "  0%|          | 0/37 [00:00<?, ?it/s]"
      ]
     },
     "metadata": {},
     "output_type": "display_data"
    },
    {
     "data": {
      "application/vnd.jupyter.widget-view+json": {
       "model_id": "8ba54afa9c404c91a6075d7201be1caf",
       "version_major": 2,
       "version_minor": 0
      },
      "text/plain": [
       "  0%|          | 0/37 [00:00<?, ?it/s]"
      ]
     },
     "metadata": {},
     "output_type": "display_data"
    }
   ],
   "source": [
    "# eigenvector centrality - unweighted\n",
    "eigenv_centr_df_uw = pd.DataFrame(index=years, columns=unique_nodes)\n",
    "for y in tqdm(years):\n",
    "    y_graph = read_json_file(graph_folder + f'technology_graph_{int(y)}.json')\n",
    "    try:\n",
    "        try:\n",
    "            eigenv_centr = nx.eigenvector_centrality(G=y_graph, weight=None)\n",
    "        except:\n",
    "            eigenv_centr = nx.eigenvector_centrality(G=y_graph, weight=None, tol=1e-03)\n",
    "        for col in eigenv_centr_df_uw.columns:\n",
    "            try:\n",
    "                eigenv_centr_df_uw.loc[y][col] = eigenv_centr[col]\n",
    "            except:\n",
    "                pass\n",
    "    except:\n",
    "        pass\n",
    "    \n",
    "    \n",
    "# eigenvector centrality - weighted\n",
    "eigenv_centr_df = pd.DataFrame(index=years, columns=unique_nodes)\n",
    "for y in tqdm(years):\n",
    "    y_graph = read_json_file(graph_folder + f'technology_graph_{int(y)}.json')\n",
    "    try:\n",
    "        try:\n",
    "            eigenv_centr = nx.eigenvector_centrality(G=y_graph, weight=weight)\n",
    "        except:\n",
    "            eigenv_centr = nx.eigenvector_centrality(G=y_graph, weight=weight, tol=1e-03)\n",
    "        for col in eigenv_centr_df.columns:\n",
    "            try:\n",
    "                eigenv_centr_df.loc[y][col] = eigenv_centr[col]\n",
    "            except:\n",
    "                pass\n",
    "    except:\n",
    "        pass"
   ]
  },
  {
   "cell_type": "code",
   "execution_count": 7,
   "metadata": {},
   "outputs": [
    {
     "data": {
      "application/vnd.jupyter.widget-view+json": {
       "model_id": "2428e592188e4264badfd06e2d0e9ab8",
       "version_major": 2,
       "version_minor": 0
      },
      "text/plain": [
       "  0%|          | 0/37 [00:00<?, ?it/s]"
      ]
     },
     "metadata": {},
     "output_type": "display_data"
    }
   ],
   "source": [
    "# closeness centrality\n",
    "closeness_centr_df = pd.DataFrame(index=years, columns=unique_nodes)\n",
    "for y in tqdm(years):\n",
    "    y_graph = read_json_file(graph_folder + f'technology_graph_{int(y)}.json')\n",
    "    closeness_centr = nx.closeness_centrality(G=y_graph)\n",
    "    for col in closeness_centr_df.columns:\n",
    "        try:\n",
    "            closeness_centr_df.loc[y][col] = closeness_centr[col]\n",
    "        except:\n",
    "            pass"
   ]
  },
  {
   "cell_type": "code",
   "execution_count": 8,
   "metadata": {},
   "outputs": [
    {
     "data": {
      "application/vnd.jupyter.widget-view+json": {
       "model_id": "77ea3b3ea30c4b7cb25b836adbf3e029",
       "version_major": 2,
       "version_minor": 0
      },
      "text/plain": [
       "  0%|          | 0/37 [00:00<?, ?it/s]"
      ]
     },
     "metadata": {},
     "output_type": "display_data"
    },
    {
     "data": {
      "application/vnd.jupyter.widget-view+json": {
       "model_id": "76886c20cc5f495eb81147856fa6110b",
       "version_major": 2,
       "version_minor": 0
      },
      "text/plain": [
       "  0%|          | 0/37 [00:00<?, ?it/s]"
      ]
     },
     "metadata": {},
     "output_type": "display_data"
    }
   ],
   "source": [
    "# betweenness centrality - unweighted\n",
    "betweenness_centr_df_uw = pd.DataFrame(index=years, columns=unique_nodes)\n",
    "for y in tqdm(years):\n",
    "    y_graph = read_json_file(graph_folder + f'technology_graph_{int(y)}.json')\n",
    "    betweenness_centr = nx.betweenness_centrality(G=y_graph, seed=seed, weight=None)\n",
    "    for col in betweenness_centr_df_uw.columns:\n",
    "        try:\n",
    "            betweenness_centr_df_uw.loc[y][col] = betweenness_centr[col]\n",
    "        except:\n",
    "            pass\n",
    "        \n",
    "        \n",
    "# betweenness centrality - weighted\n",
    "betweenness_centr_df = pd.DataFrame(index=years, columns=unique_nodes)\n",
    "for y in tqdm(years):\n",
    "    y_graph = read_json_file(graph_folder + f'technology_graph_{int(y)}.json')\n",
    "    betweenness_centr = nx.betweenness_centrality(G=y_graph, seed=seed, weight=weight)\n",
    "    for col in betweenness_centr_df.columns:\n",
    "        try:\n",
    "            betweenness_centr_df.loc[y][col] = betweenness_centr[col]\n",
    "        except:\n",
    "            pass"
   ]
  },
  {
   "cell_type": "markdown",
   "metadata": {},
   "source": [
    "saving output files"
   ]
  },
  {
   "cell_type": "code",
   "execution_count": 9,
   "metadata": {},
   "outputs": [],
   "source": [
    "pagerank_df.to_csv(output_folder + 'pagerank_centr.csv', index=True)\n",
    "pagerank_df_uw.to_csv(output_folder + 'pagerank_centr_uw.csv', index=True)\n",
    "degree_centr_df.to_csv(output_folder + 'degree_centr.csv', index=True)\n",
    "eigenv_centr_df.to_csv(output_folder + 'eigenv_centr.csv', index=True)\n",
    "eigenv_centr_df_uw.to_csv(output_folder + 'eigenv_centr_uw.csv', index=True)\n",
    "closeness_centr_df.to_csv(output_folder + 'closeness_centr.csv', index=True)\n",
    "betweenness_centr_df.to_csv(output_folder + 'betweenness_centr.csv', index=True)\n",
    "betweenness_centr_df_uw.to_csv(output_folder + 'betweenness_centr_uw.csv', index=True)"
   ]
  },
  {
   "cell_type": "code",
   "execution_count": null,
   "metadata": {},
   "outputs": [],
   "source": []
  }
 ],
 "metadata": {
  "kernelspec": {
   "display_name": "Python 3 (ipykernel)",
   "language": "python",
   "name": "python3"
  },
  "language_info": {
   "codemirror_mode": {
    "name": "ipython",
    "version": 3
   },
   "file_extension": ".py",
   "mimetype": "text/x-python",
   "name": "python",
   "nbconvert_exporter": "python",
   "pygments_lexer": "ipython3",
   "version": "3.10.5"
  }
 },
 "nbformat": 4,
 "nbformat_minor": 4
}
