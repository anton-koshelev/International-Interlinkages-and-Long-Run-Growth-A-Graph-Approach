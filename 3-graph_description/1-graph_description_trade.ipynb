{
 "cells": [
  {
   "cell_type": "markdown",
   "metadata": {},
   "source": [
    "### Notebook 1 - trade graph description"
   ]
  },
  {
   "cell_type": "code",
   "execution_count": 1,
   "metadata": {},
   "outputs": [],
   "source": [
    "from networkx.readwrite import json_graph\n",
    "from tqdm import tqdm_notebook as tqdm\n",
    "import matplotlib.pyplot as plt\n",
    "import networkx as nx\n",
    "import pandas as pd\n",
    "import numpy as np\n",
    "import warnings\n",
    "import json\n",
    "import os\n",
    "\n",
    "warnings.filterwarnings('ignore')\n",
    "year_start = 1988\n",
    "year_end = 2021\n",
    "graph_folder = '/Users/koshelev/Documents/lmu/thesis/1-graph_construction/data/preprocessed/trade_graphs/'\n",
    "weight = 'TradeValue in 1000 USD'\n",
    "seed = 100"
   ]
  },
  {
   "cell_type": "code",
   "execution_count": 2,
   "metadata": {},
   "outputs": [],
   "source": [
    "def read_json_file(filename: str) -> nx.Graph:\n",
    "    with open(filename) as f:\n",
    "        js_graph = json.load(f)\n",
    "    return json_graph.node_link_graph(js_graph)"
   ]
  },
  {
   "cell_type": "code",
   "execution_count": 3,
   "metadata": {},
   "outputs": [],
   "source": [
    "def graph_algebraic_connectivity(graph: nx.DiGraph, \n",
    "                                 is_normalized: bool = False, \n",
    "                                 weight_attribute: str = None, \n",
    "                                 seed: int = seed) -> float:\n",
    "    alg_con = nx.linalg.algebraic_connectivity(G=graph, normalized=is_normalized, weight=weight_attribute, \n",
    "                                               seed=seed)\n",
    "    return alg_con\n",
    "\n",
    "\n",
    "def graph_wiener_index(graph: nx.DiGraph, weight_attribute: str = weight) -> float:\n",
    "    wiener_index = nx.wiener_index(G=graph, weight=weight_attribute)\n",
    "    return wiener_index"
   ]
  },
  {
   "cell_type": "code",
   "execution_count": 4,
   "metadata": {},
   "outputs": [],
   "source": [
    "def graph_descr(graph: nx.DiGraph, weight: str) -> dict:\n",
    "    output_dict = {}\n",
    "    num_nodes = graph.number_of_nodes()\n",
    "    num_edges = graph.number_of_edges()\n",
    "    average_degree_w = np.nanmean(list(dict(graph.degree(weight=weight)).values()))\n",
    "    average_degree_nw = np.nanmean(list(dict(graph.degree(weight=None)).values()))\n",
    "    average_lcc_nw = nx.average_clustering(G=graph, weight=None)\n",
    "    average_spl_nw = nx.average_shortest_path_length(G=graph, weight=None)\n",
    "    algebraic_connect_nw = graph_algebraic_connectivity(graph=graph.to_undirected(), weight_attribute=None)\n",
    "    average_deg_centr = np.mean(list(nx.degree_centrality(G=graph).values()))\n",
    "    \n",
    "    output_dict['num_nodes'] = num_nodes\n",
    "    output_dict['num_edges'] = num_edges\n",
    "    output_dict['average_degree_w'] = average_degree_w\n",
    "    output_dict['average_degree_nw'] = average_degree_nw\n",
    "    output_dict['average_lcc_nw'] = average_lcc_nw\n",
    "    output_dict['average_spl_nw'] = average_spl_nw\n",
    "    output_dict['algebraic_connect_nw'] = algebraic_connect_nw\n",
    "    output_dict['average_deg_centr'] = average_deg_centr\n",
    "    \n",
    "    return output_dict"
   ]
  },
  {
   "cell_type": "code",
   "execution_count": 5,
   "metadata": {},
   "outputs": [
    {
     "data": {
      "application/vnd.jupyter.widget-view+json": {
       "model_id": "54ac2b9a9b91454e902caa0d667c5bcb",
       "version_major": 2,
       "version_minor": 0
      },
      "text/plain": [
       "  0%|          | 0/34 [00:00<?, ?it/s]"
      ]
     },
     "metadata": {},
     "output_type": "display_data"
    },
    {
     "name": "stdout",
     "output_type": "stream",
     "text": [
      "1988\n",
      "1989\n",
      "1990\n",
      "1991\n",
      "1992\n",
      "1993\n",
      "1994\n",
      "1995\n",
      "1996\n",
      "1997\n",
      "1998\n",
      "1999\n",
      "2000\n",
      "2001\n",
      "2002\n",
      "2003\n",
      "2004\n",
      "2005\n",
      "2006\n",
      "2007\n",
      "2008\n",
      "2009\n",
      "2010\n",
      "2011\n",
      "2012\n",
      "2013\n",
      "2014\n",
      "2015\n",
      "2016\n",
      "2017\n",
      "2018\n",
      "2019\n",
      "2020\n",
      "2021\n"
     ]
    }
   ],
   "source": [
    "nodes = []\n",
    "edges = []\n",
    "degrees_w = []\n",
    "degrees_nw = []\n",
    "alcc_nw = []\n",
    "spl_nw = []\n",
    "algebrcon_nw = []\n",
    "deg_centr = []\n",
    "years = []\n",
    "\n",
    "for year in tqdm(range(year_start, year_end + 1)):\n",
    "    g = read_json_file(graph_folder + f'export_graph_{int(year)}.json')\n",
    "    print(year)\n",
    "    years.append(year)\n",
    "    output_dict = graph_descr(g, weight=weight)\n",
    "    nodes.append(output_dict['num_nodes'])\n",
    "    edges.append(output_dict['num_edges'])\n",
    "    degrees_w.append(output_dict['average_degree_w'])\n",
    "    degrees_nw.append(output_dict['average_degree_nw'])\n",
    "    alcc_nw.append(output_dict['average_lcc_nw'])\n",
    "    spl_nw.append(output_dict['average_spl_nw'])\n",
    "    algebrcon_nw.append(output_dict['algebraic_connect_nw'])\n",
    "    deg_centr.append(output_dict['average_deg_centr'])\n",
    "    \n",
    "descr_df = pd.DataFrame()\n",
    "descr_df['nodes'] = nodes\n",
    "descr_df['edges'] = edges\n",
    "descr_df['degrees_w'] = degrees_w\n",
    "descr_df['degrees_nw'] = degrees_nw\n",
    "descr_df['alcc_nw'] = alcc_nw\n",
    "descr_df['spl_nw'] = spl_nw\n",
    "descr_df['algebrcon_nw'] = algebrcon_nw\n",
    "descr_df['deg_centr'] = deg_centr\n",
    "descr_df.index = years"
   ]
  },
  {
   "cell_type": "code",
   "execution_count": 6,
   "metadata": {},
   "outputs": [],
   "source": [
    "descr_df.to_csv('graph_descriptions/trade.csv', index=True)"
   ]
  },
  {
   "cell_type": "code",
   "execution_count": 7,
   "metadata": {},
   "outputs": [
    {
     "data": {
      "text/html": [
       "<div>\n",
       "<style scoped>\n",
       "    .dataframe tbody tr th:only-of-type {\n",
       "        vertical-align: middle;\n",
       "    }\n",
       "\n",
       "    .dataframe tbody tr th {\n",
       "        vertical-align: top;\n",
       "    }\n",
       "\n",
       "    .dataframe thead th {\n",
       "        text-align: right;\n",
       "    }\n",
       "</style>\n",
       "<table border=\"1\" class=\"dataframe\">\n",
       "  <thead>\n",
       "    <tr style=\"text-align: right;\">\n",
       "      <th></th>\n",
       "      <th>nodes</th>\n",
       "      <th>edges</th>\n",
       "      <th>degrees_w</th>\n",
       "      <th>degrees_nw</th>\n",
       "      <th>alcc_nw</th>\n",
       "      <th>spl_nw</th>\n",
       "      <th>algebrcon_nw</th>\n",
       "      <th>deg_centr</th>\n",
       "    </tr>\n",
       "  </thead>\n",
       "  <tbody>\n",
       "    <tr>\n",
       "      <th>1988</th>\n",
       "      <td>201</td>\n",
       "      <td>4791</td>\n",
       "      <td>1.733868e+07</td>\n",
       "      <td>47.671642</td>\n",
       "      <td>0.859048</td>\n",
       "      <td>0.239403</td>\n",
       "      <td>0.994325</td>\n",
       "      <td>0.238358</td>\n",
       "    </tr>\n",
       "    <tr>\n",
       "      <th>1989</th>\n",
       "      <td>201</td>\n",
       "      <td>6546</td>\n",
       "      <td>2.361175e+07</td>\n",
       "      <td>65.134328</td>\n",
       "      <td>0.823337</td>\n",
       "      <td>0.345075</td>\n",
       "      <td>0.993742</td>\n",
       "      <td>0.325672</td>\n",
       "    </tr>\n",
       "    <tr>\n",
       "      <th>1990</th>\n",
       "      <td>202</td>\n",
       "      <td>7860</td>\n",
       "      <td>2.716548e+07</td>\n",
       "      <td>77.821782</td>\n",
       "      <td>0.812359</td>\n",
       "      <td>0.450643</td>\n",
       "      <td>0.998835</td>\n",
       "      <td>0.387173</td>\n",
       "    </tr>\n",
       "    <tr>\n",
       "      <th>1991</th>\n",
       "      <td>199</td>\n",
       "      <td>8336</td>\n",
       "      <td>2.884452e+07</td>\n",
       "      <td>83.778894</td>\n",
       "      <td>0.802795</td>\n",
       "      <td>0.502462</td>\n",
       "      <td>1.995073</td>\n",
       "      <td>0.423126</td>\n",
       "    </tr>\n",
       "    <tr>\n",
       "      <th>1992</th>\n",
       "      <td>221</td>\n",
       "      <td>10528</td>\n",
       "      <td>2.942381e+07</td>\n",
       "      <td>95.276018</td>\n",
       "      <td>0.796802</td>\n",
       "      <td>0.563266</td>\n",
       "      <td>0.993622</td>\n",
       "      <td>0.433073</td>\n",
       "    </tr>\n",
       "  </tbody>\n",
       "</table>\n",
       "</div>"
      ],
      "text/plain": [
       "      nodes  edges     degrees_w  degrees_nw   alcc_nw    spl_nw  \\\n",
       "1988    201   4791  1.733868e+07   47.671642  0.859048  0.239403   \n",
       "1989    201   6546  2.361175e+07   65.134328  0.823337  0.345075   \n",
       "1990    202   7860  2.716548e+07   77.821782  0.812359  0.450643   \n",
       "1991    199   8336  2.884452e+07   83.778894  0.802795  0.502462   \n",
       "1992    221  10528  2.942381e+07   95.276018  0.796802  0.563266   \n",
       "\n",
       "      algebrcon_nw  deg_centr  \n",
       "1988      0.994325   0.238358  \n",
       "1989      0.993742   0.325672  \n",
       "1990      0.998835   0.387173  \n",
       "1991      1.995073   0.423126  \n",
       "1992      0.993622   0.433073  "
      ]
     },
     "execution_count": 7,
     "metadata": {},
     "output_type": "execute_result"
    }
   ],
   "source": [
    "descr_df.head()"
   ]
  },
  {
   "cell_type": "code",
   "execution_count": null,
   "metadata": {},
   "outputs": [],
   "source": []
  }
 ],
 "metadata": {
  "kernelspec": {
   "display_name": "Python 3 (ipykernel)",
   "language": "python",
   "name": "python3"
  },
  "language_info": {
   "codemirror_mode": {
    "name": "ipython",
    "version": 3
   },
   "file_extension": ".py",
   "mimetype": "text/x-python",
   "name": "python",
   "nbconvert_exporter": "python",
   "pygments_lexer": "ipython3",
   "version": "3.10.5"
  }
 },
 "nbformat": 4,
 "nbformat_minor": 4
}
