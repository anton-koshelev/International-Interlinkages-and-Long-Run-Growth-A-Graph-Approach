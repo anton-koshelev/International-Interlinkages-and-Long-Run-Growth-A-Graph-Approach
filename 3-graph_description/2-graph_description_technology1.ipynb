{
 "cells": [
  {
   "cell_type": "markdown",
   "metadata": {},
   "source": [
    "### Notebook 2 - technology graph description (solution 1)"
   ]
  },
  {
   "cell_type": "code",
   "execution_count": 1,
   "metadata": {},
   "outputs": [],
   "source": [
    "from networkx.readwrite import json_graph\n",
    "from tqdm import tqdm_notebook as tqdm\n",
    "import matplotlib.pyplot as plt\n",
    "import networkx as nx\n",
    "import pandas as pd\n",
    "import numpy as np\n",
    "import warnings\n",
    "import json\n",
    "import os\n",
    "\n",
    "warnings.filterwarnings('ignore')\n",
    "year_start = 1963\n",
    "year_end = 1999\n",
    "graph_folder = '/Users/koshelev/Documents/lmu/thesis/1-graph_construction/data/preprocessed/technology_graphs_1/'\n",
    "weight = 'Number Citations'\n",
    "seed = 100"
   ]
  },
  {
   "cell_type": "code",
   "execution_count": 2,
   "metadata": {},
   "outputs": [],
   "source": [
    "def read_json_file(filename: str) -> nx.Graph:\n",
    "    with open(filename) as f:\n",
    "        js_graph = json.load(f)\n",
    "    return json_graph.node_link_graph(js_graph)"
   ]
  },
  {
   "cell_type": "code",
   "execution_count": 3,
   "metadata": {},
   "outputs": [],
   "source": [
    "def graph_algebraic_connectivity(graph: nx.DiGraph, \n",
    "                                 is_normalized: bool = False, \n",
    "                                 weight_attribute: str = None, \n",
    "                                 seed: int = seed) -> float:\n",
    "    alg_con = nx.linalg.algebraic_connectivity(G=graph, normalized=is_normalized, weight=weight_attribute, \n",
    "                                               seed=seed)\n",
    "    return alg_con\n",
    "\n",
    "\n",
    "def graph_wiener_index(graph: nx.DiGraph, weight_attribute: str = weight) -> float:\n",
    "    wiener_index = nx.wiener_index(G=graph, weight=weight_attribute)\n",
    "    return wiener_index"
   ]
  },
  {
   "cell_type": "code",
   "execution_count": 4,
   "metadata": {},
   "outputs": [],
   "source": [
    "def graph_descr(graph: nx.DiGraph, weight: str) -> dict:\n",
    "    output_dict = {}\n",
    "    num_nodes = graph.number_of_nodes()\n",
    "    num_edges = graph.number_of_edges()\n",
    "    average_degree_w = np.nanmean(list(dict(graph.degree(weight=weight)).values()))\n",
    "    average_degree_nw = np.nanmean(list(dict(graph.degree(weight=None)).values()))\n",
    "    average_lcc_nw = nx.average_clustering(G=graph, weight=None)\n",
    "    try:\n",
    "        average_spl_nw = nx.average_shortest_path_length(G=graph, weight=None)\n",
    "    except nx.NetworkXError:\n",
    "        average_spl_nw = np.nan\n",
    "    algebraic_connect_nw = graph_algebraic_connectivity(graph=graph.to_undirected(), weight_attribute=None)\n",
    "    average_deg_centr = np.mean(list(nx.degree_centrality(G=graph).values()))\n",
    "    \n",
    "    output_dict['num_nodes'] = num_nodes\n",
    "    output_dict['num_edges'] = num_edges\n",
    "    output_dict['average_degree_w'] = average_degree_w\n",
    "    output_dict['average_degree_nw'] = average_degree_nw\n",
    "    output_dict['average_lcc_nw'] = average_lcc_nw\n",
    "    output_dict['average_spl_nw'] = average_spl_nw\n",
    "    output_dict['algebraic_connect_nw'] = algebraic_connect_nw\n",
    "    output_dict['average_deg_centr'] = average_deg_centr\n",
    "    \n",
    "    return output_dict"
   ]
  },
  {
   "cell_type": "code",
   "execution_count": 5,
   "metadata": {},
   "outputs": [
    {
     "data": {
      "application/vnd.jupyter.widget-view+json": {
       "model_id": "a668ee81d4dc409aace0bea165679704",
       "version_major": 2,
       "version_minor": 0
      },
      "text/plain": [
       "  0%|          | 0/37 [00:00<?, ?it/s]"
      ]
     },
     "metadata": {},
     "output_type": "display_data"
    },
    {
     "name": "stdout",
     "output_type": "stream",
     "text": [
      "1963\n",
      "1964\n",
      "1965\n",
      "1966\n",
      "1967\n",
      "1968\n",
      "1969\n",
      "1970\n",
      "1971\n",
      "1972\n",
      "1973\n",
      "1974\n",
      "1975\n",
      "1976\n",
      "1977\n",
      "1978\n",
      "1979\n",
      "1980\n",
      "1981\n",
      "1982\n",
      "1983\n",
      "1984\n",
      "1985\n",
      "1986\n",
      "1987\n",
      "1988\n",
      "1989\n",
      "1990\n",
      "1991\n",
      "1992\n",
      "1993\n",
      "1994\n",
      "1995\n",
      "1996\n",
      "1997\n",
      "1998\n",
      "1999\n"
     ]
    }
   ],
   "source": [
    "nodes = []\n",
    "edges = []\n",
    "degrees_w = []\n",
    "degrees_nw = []\n",
    "alcc_nw = []\n",
    "spl_nw = []\n",
    "algebrcon_nw = []\n",
    "deg_centr = []\n",
    "years = []\n",
    "\n",
    "for year in tqdm(range(year_start, year_end + 1)):\n",
    "    g = read_json_file(graph_folder + f'technology_graph_{int(year)}.json')\n",
    "    print(year)\n",
    "    years.append(year)\n",
    "    output_dict = graph_descr(g, weight=weight)\n",
    "    nodes.append(output_dict['num_nodes'])\n",
    "    edges.append(output_dict['num_edges'])\n",
    "    degrees_w.append(output_dict['average_degree_w'])\n",
    "    degrees_nw.append(output_dict['average_degree_nw'])\n",
    "    alcc_nw.append(output_dict['average_lcc_nw'])\n",
    "    spl_nw.append(output_dict['average_spl_nw'])\n",
    "    algebrcon_nw.append(output_dict['algebraic_connect_nw'])\n",
    "    deg_centr.append(output_dict['average_deg_centr'])\n",
    "    \n",
    "descr_df = pd.DataFrame()\n",
    "descr_df['nodes'] = nodes\n",
    "descr_df['edges'] = edges\n",
    "descr_df['degrees_w'] = degrees_w\n",
    "descr_df['degrees_nw'] = degrees_nw\n",
    "descr_df['alcc_nw'] = alcc_nw\n",
    "descr_df['spl_nw'] = spl_nw\n",
    "descr_df['algebrcon_nw'] = algebrcon_nw\n",
    "descr_df['deg_centr'] = deg_centr\n",
    "descr_df.index = years"
   ]
  },
  {
   "cell_type": "code",
   "execution_count": 6,
   "metadata": {},
   "outputs": [],
   "source": [
    "descr_df.to_csv('graph_descriptions/technology1.csv', index=True)"
   ]
  },
  {
   "cell_type": "code",
   "execution_count": 7,
   "metadata": {},
   "outputs": [
    {
     "data": {
      "text/html": [
       "<div>\n",
       "<style scoped>\n",
       "    .dataframe tbody tr th:only-of-type {\n",
       "        vertical-align: middle;\n",
       "    }\n",
       "\n",
       "    .dataframe tbody tr th {\n",
       "        vertical-align: top;\n",
       "    }\n",
       "\n",
       "    .dataframe thead th {\n",
       "        text-align: right;\n",
       "    }\n",
       "</style>\n",
       "<table border=\"1\" class=\"dataframe\">\n",
       "  <thead>\n",
       "    <tr style=\"text-align: right;\">\n",
       "      <th></th>\n",
       "      <th>nodes</th>\n",
       "      <th>edges</th>\n",
       "      <th>degrees_w</th>\n",
       "      <th>degrees_nw</th>\n",
       "      <th>alcc_nw</th>\n",
       "      <th>spl_nw</th>\n",
       "      <th>algebrcon_nw</th>\n",
       "      <th>deg_centr</th>\n",
       "    </tr>\n",
       "  </thead>\n",
       "  <tbody>\n",
       "    <tr>\n",
       "      <th>1963</th>\n",
       "      <td>99</td>\n",
       "      <td>655</td>\n",
       "      <td>2673.818182</td>\n",
       "      <td>13.232323</td>\n",
       "      <td>0.540952</td>\n",
       "      <td>1.108328</td>\n",
       "      <td>0.880071</td>\n",
       "      <td>0.135024</td>\n",
       "    </tr>\n",
       "    <tr>\n",
       "      <th>1964</th>\n",
       "      <td>97</td>\n",
       "      <td>646</td>\n",
       "      <td>2937.773196</td>\n",
       "      <td>13.319588</td>\n",
       "      <td>0.554266</td>\n",
       "      <td>1.031250</td>\n",
       "      <td>0.881870</td>\n",
       "      <td>0.138746</td>\n",
       "    </tr>\n",
       "    <tr>\n",
       "      <th>1965</th>\n",
       "      <td>108</td>\n",
       "      <td>777</td>\n",
       "      <td>3723.851852</td>\n",
       "      <td>14.388889</td>\n",
       "      <td>0.579510</td>\n",
       "      <td>1.026480</td>\n",
       "      <td>0.882500</td>\n",
       "      <td>0.134476</td>\n",
       "    </tr>\n",
       "    <tr>\n",
       "      <th>1966</th>\n",
       "      <td>106</td>\n",
       "      <td>795</td>\n",
       "      <td>4385.735849</td>\n",
       "      <td>15.000000</td>\n",
       "      <td>0.591940</td>\n",
       "      <td>1.130638</td>\n",
       "      <td>0.880569</td>\n",
       "      <td>0.142857</td>\n",
       "    </tr>\n",
       "    <tr>\n",
       "      <th>1967</th>\n",
       "      <td>106</td>\n",
       "      <td>853</td>\n",
       "      <td>4468.226415</td>\n",
       "      <td>16.094340</td>\n",
       "      <td>0.631690</td>\n",
       "      <td>1.192093</td>\n",
       "      <td>0.908201</td>\n",
       "      <td>0.153279</td>\n",
       "    </tr>\n",
       "  </tbody>\n",
       "</table>\n",
       "</div>"
      ],
      "text/plain": [
       "      nodes  edges    degrees_w  degrees_nw   alcc_nw    spl_nw  algebrcon_nw  \\\n",
       "1963     99    655  2673.818182   13.232323  0.540952  1.108328      0.880071   \n",
       "1964     97    646  2937.773196   13.319588  0.554266  1.031250      0.881870   \n",
       "1965    108    777  3723.851852   14.388889  0.579510  1.026480      0.882500   \n",
       "1966    106    795  4385.735849   15.000000  0.591940  1.130638      0.880569   \n",
       "1967    106    853  4468.226415   16.094340  0.631690  1.192093      0.908201   \n",
       "\n",
       "      deg_centr  \n",
       "1963   0.135024  \n",
       "1964   0.138746  \n",
       "1965   0.134476  \n",
       "1966   0.142857  \n",
       "1967   0.153279  "
      ]
     },
     "execution_count": 7,
     "metadata": {},
     "output_type": "execute_result"
    }
   ],
   "source": [
    "descr_df.head()"
   ]
  },
  {
   "cell_type": "code",
   "execution_count": null,
   "metadata": {},
   "outputs": [],
   "source": []
  }
 ],
 "metadata": {
  "kernelspec": {
   "display_name": "Python 3 (ipykernel)",
   "language": "python",
   "name": "python3"
  },
  "language_info": {
   "codemirror_mode": {
    "name": "ipython",
    "version": 3
   },
   "file_extension": ".py",
   "mimetype": "text/x-python",
   "name": "python",
   "nbconvert_exporter": "python",
   "pygments_lexer": "ipython3",
   "version": "3.10.5"
  }
 },
 "nbformat": 4,
 "nbformat_minor": 4
}
