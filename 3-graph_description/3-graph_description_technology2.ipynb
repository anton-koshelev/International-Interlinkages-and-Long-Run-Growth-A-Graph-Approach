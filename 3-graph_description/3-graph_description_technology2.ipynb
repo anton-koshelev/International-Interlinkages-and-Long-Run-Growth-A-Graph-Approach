{
 "cells": [
  {
   "cell_type": "markdown",
   "metadata": {},
   "source": [
    "### Notebook 3 - technology graph description (solution 2)"
   ]
  },
  {
   "cell_type": "code",
   "execution_count": 1,
   "metadata": {},
   "outputs": [],
   "source": [
    "from networkx.readwrite import json_graph\n",
    "from tqdm import tqdm_notebook as tqdm\n",
    "import matplotlib.pyplot as plt\n",
    "import networkx as nx\n",
    "import pandas as pd\n",
    "import numpy as np\n",
    "import warnings\n",
    "import json\n",
    "import os\n",
    "\n",
    "warnings.filterwarnings('ignore')\n",
    "year_start = 1975\n",
    "year_end = 1999\n",
    "graph_folder = '/Users/koshelev/Documents/lmu/thesis/1-graph_construction/data/preprocessed/technology_graphs_2/'\n",
    "weight = 'Number Citations'\n",
    "seed = 100"
   ]
  },
  {
   "cell_type": "code",
   "execution_count": 2,
   "metadata": {},
   "outputs": [],
   "source": [
    "def read_json_file(filename: str) -> nx.Graph:\n",
    "    with open(filename) as f:\n",
    "        js_graph = json.load(f)\n",
    "    return json_graph.node_link_graph(js_graph)"
   ]
  },
  {
   "cell_type": "code",
   "execution_count": 3,
   "metadata": {},
   "outputs": [],
   "source": [
    "def graph_algebraic_connectivity(graph: nx.DiGraph, \n",
    "                                 is_normalized: bool = False, \n",
    "                                 weight_attribute: str = None, \n",
    "                                 seed: int = seed) -> float:\n",
    "    alg_con = nx.linalg.algebraic_connectivity(G=graph, normalized=is_normalized, weight=weight_attribute, \n",
    "                                               seed=seed)\n",
    "    return alg_con\n",
    "\n",
    "\n",
    "def graph_wiener_index(graph: nx.DiGraph, weight_attribute: str = weight) -> float:\n",
    "    wiener_index = nx.wiener_index(G=graph, weight=weight_attribute)\n",
    "    return wiener_index"
   ]
  },
  {
   "cell_type": "code",
   "execution_count": 4,
   "metadata": {},
   "outputs": [],
   "source": [
    "def graph_descr(graph: nx.DiGraph, weight: str) -> dict:\n",
    "    output_dict = {}\n",
    "    num_nodes = graph.number_of_nodes()\n",
    "    num_edges = graph.number_of_edges()\n",
    "    average_degree_w = np.nanmean(list(dict(graph.degree(weight=weight)).values()))\n",
    "    average_degree_nw = np.nanmean(list(dict(graph.degree(weight=None)).values()))\n",
    "    average_lcc_nw = nx.average_clustering(G=graph, weight=None)\n",
    "    try:\n",
    "        average_spl_nw = nx.average_shortest_path_length(G=graph, weight=None)\n",
    "    except nx.NetworkXError:\n",
    "        average_spl_nw = np.nan\n",
    "    algebraic_connect_nw = graph_algebraic_connectivity(graph=graph.to_undirected(), weight_attribute=None)\n",
    "    average_deg_centr = np.mean(list(nx.degree_centrality(G=graph).values()))\n",
    "    \n",
    "    output_dict['num_nodes'] = num_nodes\n",
    "    output_dict['num_edges'] = num_edges\n",
    "    output_dict['average_degree_w'] = average_degree_w\n",
    "    output_dict['average_degree_nw'] = average_degree_nw\n",
    "    output_dict['average_lcc_nw'] = average_lcc_nw\n",
    "    output_dict['average_spl_nw'] = average_spl_nw\n",
    "    output_dict['algebraic_connect_nw'] = algebraic_connect_nw\n",
    "    output_dict['average_deg_centr'] = average_deg_centr\n",
    "    \n",
    "    return output_dict"
   ]
  },
  {
   "cell_type": "code",
   "execution_count": 5,
   "metadata": {},
   "outputs": [
    {
     "data": {
      "application/vnd.jupyter.widget-view+json": {
       "model_id": "1d6fbabb5fd743d5b03237b77414ca2e",
       "version_major": 2,
       "version_minor": 0
      },
      "text/plain": [
       "  0%|          | 0/25 [00:00<?, ?it/s]"
      ]
     },
     "metadata": {},
     "output_type": "display_data"
    },
    {
     "name": "stdout",
     "output_type": "stream",
     "text": [
      "1975\n",
      "1976\n",
      "1977\n",
      "1978\n",
      "1979\n",
      "1980\n",
      "1981\n",
      "1982\n",
      "1983\n",
      "1984\n",
      "1985\n",
      "1986\n",
      "1987\n",
      "1988\n",
      "1989\n",
      "1990\n",
      "1991\n",
      "1992\n",
      "1993\n",
      "1994\n",
      "1995\n",
      "1996\n",
      "1997\n",
      "1998\n",
      "1999\n"
     ]
    }
   ],
   "source": [
    "nodes = []\n",
    "edges = []\n",
    "degrees_w = []\n",
    "degrees_nw = []\n",
    "alcc_nw = []\n",
    "spl_nw = []\n",
    "algebrcon_nw = []\n",
    "deg_centr = []\n",
    "years = []\n",
    "\n",
    "for year in tqdm(range(year_start, year_end + 1)):\n",
    "    g = read_json_file(graph_folder + f'technology_graph_{int(year)}.json')\n",
    "    print(year)\n",
    "    years.append(year)\n",
    "    output_dict = graph_descr(g, weight=weight)\n",
    "    nodes.append(output_dict['num_nodes'])\n",
    "    edges.append(output_dict['num_edges'])\n",
    "    degrees_w.append(output_dict['average_degree_w'])\n",
    "    degrees_nw.append(output_dict['average_degree_nw'])\n",
    "    alcc_nw.append(output_dict['average_lcc_nw'])\n",
    "    spl_nw.append(output_dict['average_spl_nw'])\n",
    "    algebrcon_nw.append(output_dict['algebraic_connect_nw'])\n",
    "    deg_centr.append(output_dict['average_deg_centr'])\n",
    "    \n",
    "descr_df = pd.DataFrame()\n",
    "descr_df['nodes'] = nodes\n",
    "descr_df['edges'] = edges\n",
    "descr_df['degrees_w'] = degrees_w\n",
    "descr_df['degrees_nw'] = degrees_nw\n",
    "descr_df['alcc_nw'] = alcc_nw\n",
    "descr_df['spl_nw'] = spl_nw\n",
    "descr_df['algebrcon_nw'] = algebrcon_nw\n",
    "descr_df['deg_centr'] = deg_centr\n",
    "descr_df.index = years"
   ]
  },
  {
   "cell_type": "code",
   "execution_count": 6,
   "metadata": {},
   "outputs": [],
   "source": [
    "descr_df.to_csv('graph_descriptions/technology2.csv', index=True)"
   ]
  },
  {
   "cell_type": "code",
   "execution_count": 7,
   "metadata": {},
   "outputs": [
    {
     "data": {
      "text/html": [
       "<div>\n",
       "<style scoped>\n",
       "    .dataframe tbody tr th:only-of-type {\n",
       "        vertical-align: middle;\n",
       "    }\n",
       "\n",
       "    .dataframe tbody tr th {\n",
       "        vertical-align: top;\n",
       "    }\n",
       "\n",
       "    .dataframe thead th {\n",
       "        text-align: right;\n",
       "    }\n",
       "</style>\n",
       "<table border=\"1\" class=\"dataframe\">\n",
       "  <thead>\n",
       "    <tr style=\"text-align: right;\">\n",
       "      <th></th>\n",
       "      <th>nodes</th>\n",
       "      <th>edges</th>\n",
       "      <th>degrees_w</th>\n",
       "      <th>degrees_nw</th>\n",
       "      <th>alcc_nw</th>\n",
       "      <th>spl_nw</th>\n",
       "      <th>algebrcon_nw</th>\n",
       "      <th>deg_centr</th>\n",
       "    </tr>\n",
       "  </thead>\n",
       "  <tbody>\n",
       "    <tr>\n",
       "      <th>1975</th>\n",
       "      <td>92</td>\n",
       "      <td>848</td>\n",
       "      <td>4675.543478</td>\n",
       "      <td>18.434783</td>\n",
       "      <td>0.696479</td>\n",
       "      <td>1.380674</td>\n",
       "      <td>0.905301</td>\n",
       "      <td>0.202580</td>\n",
       "    </tr>\n",
       "    <tr>\n",
       "      <th>1976</th>\n",
       "      <td>92</td>\n",
       "      <td>874</td>\n",
       "      <td>4954.478261</td>\n",
       "      <td>19.000000</td>\n",
       "      <td>0.736404</td>\n",
       "      <td>1.263856</td>\n",
       "      <td>0.932424</td>\n",
       "      <td>0.208791</td>\n",
       "    </tr>\n",
       "    <tr>\n",
       "      <th>1977</th>\n",
       "      <td>97</td>\n",
       "      <td>884</td>\n",
       "      <td>4602.474227</td>\n",
       "      <td>18.226804</td>\n",
       "      <td>0.736185</td>\n",
       "      <td>1.281250</td>\n",
       "      <td>0.931246</td>\n",
       "      <td>0.189863</td>\n",
       "    </tr>\n",
       "    <tr>\n",
       "      <th>1978</th>\n",
       "      <td>90</td>\n",
       "      <td>888</td>\n",
       "      <td>5210.177778</td>\n",
       "      <td>19.733333</td>\n",
       "      <td>0.714217</td>\n",
       "      <td>1.355556</td>\n",
       "      <td>0.590353</td>\n",
       "      <td>0.221723</td>\n",
       "    </tr>\n",
       "    <tr>\n",
       "      <th>1979</th>\n",
       "      <td>89</td>\n",
       "      <td>820</td>\n",
       "      <td>4074.674157</td>\n",
       "      <td>18.426966</td>\n",
       "      <td>0.713620</td>\n",
       "      <td>1.228677</td>\n",
       "      <td>0.941732</td>\n",
       "      <td>0.209397</td>\n",
       "    </tr>\n",
       "  </tbody>\n",
       "</table>\n",
       "</div>"
      ],
      "text/plain": [
       "      nodes  edges    degrees_w  degrees_nw   alcc_nw    spl_nw  algebrcon_nw  \\\n",
       "1975     92    848  4675.543478   18.434783  0.696479  1.380674      0.905301   \n",
       "1976     92    874  4954.478261   19.000000  0.736404  1.263856      0.932424   \n",
       "1977     97    884  4602.474227   18.226804  0.736185  1.281250      0.931246   \n",
       "1978     90    888  5210.177778   19.733333  0.714217  1.355556      0.590353   \n",
       "1979     89    820  4074.674157   18.426966  0.713620  1.228677      0.941732   \n",
       "\n",
       "      deg_centr  \n",
       "1975   0.202580  \n",
       "1976   0.208791  \n",
       "1977   0.189863  \n",
       "1978   0.221723  \n",
       "1979   0.209397  "
      ]
     },
     "execution_count": 7,
     "metadata": {},
     "output_type": "execute_result"
    }
   ],
   "source": [
    "descr_df.head()"
   ]
  },
  {
   "cell_type": "code",
   "execution_count": null,
   "metadata": {},
   "outputs": [],
   "source": []
  }
 ],
 "metadata": {
  "kernelspec": {
   "display_name": "Python 3 (ipykernel)",
   "language": "python",
   "name": "python3"
  },
  "language_info": {
   "codemirror_mode": {
    "name": "ipython",
    "version": 3
   },
   "file_extension": ".py",
   "mimetype": "text/x-python",
   "name": "python",
   "nbconvert_exporter": "python",
   "pygments_lexer": "ipython3",
   "version": "3.10.5"
  }
 },
 "nbformat": 4,
 "nbformat_minor": 4
}
