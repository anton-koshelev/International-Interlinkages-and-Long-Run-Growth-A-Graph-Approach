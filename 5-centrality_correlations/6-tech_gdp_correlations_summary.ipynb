{
 "cells": [
  {
   "cell_type": "markdown",
   "id": "914fdce1",
   "metadata": {},
   "source": [
    "### Notebook 6 - Summary: correlations of node centralities' ranks in technology graphs and GDPpc growth"
   ]
  },
  {
   "cell_type": "code",
   "execution_count": 92,
   "id": "655d3e98",
   "metadata": {},
   "outputs": [],
   "source": [
    "import pandas as pd\n",
    "import numpy as np\n",
    "import matplotlib.pyplot as plt\n",
    "import os\n",
    "from scipy.stats import pearsonr, spearmanr, ttest_ind, mannwhitneyu\n",
    "\n",
    "seed = 100"
   ]
  },
  {
   "cell_type": "code",
   "execution_count": 2,
   "id": "a6953a02",
   "metadata": {},
   "outputs": [],
   "source": [
    "centrality_names = {\n",
    "    'betweenness_centr_uw' : 'Betweenness Centrality - Unweighted',\n",
    "    'betweenness_centr' : 'Betweenness Centrality - Weighted',\n",
    "    'pagerank_centr_uw' : 'PageRank Centrality - Unweighted',\n",
    "    'degree_centr' : 'Degree Centrality - Weighted',\n",
    "    'pagerank_centr' : 'PageRank Centrality - Weighted',\n",
    "    'eigenv_centr' : 'Eigenvector Centrality - Weighted',\n",
    "    'eigenv_centr_uw' : 'Eigenvector Centrality - Unweighted',\n",
    "    'closeness_centr' : 'Closeness Centrality - Weighted' \n",
    "}"
   ]
  },
  {
   "cell_type": "code",
   "execution_count": 3,
   "id": "b19ea645",
   "metadata": {},
   "outputs": [],
   "source": [
    "def add_pvlaue_level(coef, pvalue):\n",
    "    if pvalue <= 0.1 and pvalue > 0.05:\n",
    "        asterisks = '*'\n",
    "    elif pvalue <= 0.05 and pvalue > 0.01:\n",
    "        asterisks = '**'\n",
    "    elif pvalue <= 0.01:\n",
    "        asterisks = '***'\n",
    "    else:\n",
    "        asterisks = ''\n",
    "    return ('$' + str(coef) + '^{' + asterisks + '}$')"
   ]
  },
  {
   "cell_type": "code",
   "execution_count": 5,
   "id": "44525644",
   "metadata": {},
   "outputs": [],
   "source": [
    "tech1_centr_path = '/Users/koshelev/Documents/lmu/thesis/2-centralities_computation/computed_centralities/technology1/'\n",
    "tech2_centr_path = '/Users/koshelev/Documents/lmu/thesis/2-centralities_computation/computed_centralities/technology2/'"
   ]
  },
  {
   "cell_type": "code",
   "execution_count": 6,
   "id": "2302252c",
   "metadata": {},
   "outputs": [
    {
     "name": "stdout",
     "output_type": "stream",
     "text": [
      "['pagerank_centr_uw', 'pagerank_centr', 'eigenv_centr_uw', 'eigenv_centr', 'degree_centr', 'closeness_centr', 'betweenness_centr_uw', 'betweenness_centr']\n"
     ]
    }
   ],
   "source": [
    "# all computed centrality names\n",
    "centr_names = []\n",
    "for filename in os.listdir(tech1_centr_path):\n",
    "    centr_names.append(filename.replace('.csv', ''))\n",
    "centr_names = sorted(centr_names, reverse=True)\n",
    "print(centr_names)"
   ]
  },
  {
   "cell_type": "code",
   "execution_count": 7,
   "id": "8953fedb",
   "metadata": {},
   "outputs": [],
   "source": [
    "# GDP p.c. data from PWT10\n",
    "pwt = pd.read_csv('data/pwt10.csv')[['countrycode', 'year', 'rgdpo', 'pop']]\n",
    "pwt['gdppc'] = pwt['rgdpo'] / pwt['pop']\n",
    "pwt.drop(columns=['rgdpo', 'pop'], inplace=True)\n",
    "pwt = pwt.pivot(index='year', columns='countrycode', values='gdppc')\n",
    "pwt.sort_values(by='year', inplace=True)"
   ]
  },
  {
   "cell_type": "code",
   "execution_count": 8,
   "id": "fbdb410d",
   "metadata": {},
   "outputs": [
    {
     "name": "stdout",
     "output_type": "stream",
     "text": [
      "countries in GDPpc dataframe: 183\n",
      "countries in tech.1 centr. dataframe: 160\n",
      "intersection in GDPpc and tech.1: 137\n",
      "intersection rate: 0.85625\n",
      " \n",
      "countries in GDPpc dataframe: 183\n",
      "countries in tech.2 centr. dataframe: 160\n",
      "intersection in GDPpc and tech.2: 137\n",
      "intersection rate: 0.85625\n"
     ]
    }
   ],
   "source": [
    "# check how many countries do we have in different dimension pairs\n",
    "\n",
    "### technology 1 & GDPpc\n",
    "gdp_set = set(pwt.columns)\n",
    "tech1_centr = pd.read_csv(f'{tech1_centr_path}{centr_names[3]}.csv', index_col=0).fillna(method='ffill')\n",
    "tech1_set = set(tech1_centr.columns)\n",
    "print(f'countries in GDPpc dataframe: {len(gdp_set)}')\n",
    "print(f'countries in tech.1 centr. dataframe: {len(tech1_set)}')\n",
    "print(f'intersection in GDPpc and tech.1: {len(gdp_set.intersection(tech1_set))}')\n",
    "print(f'intersection rate: {len(gdp_set.intersection(tech1_set)) / min(len(gdp_set), len(tech1_set))}')\n",
    "print(' ')\n",
    "### technology 2 & GDPpc\n",
    "tech2_centr = pd.read_csv(f'{tech2_centr_path}{centr_names[3]}.csv', index_col=0).fillna(method='ffill')\n",
    "tech2_set = set(tech2_centr.columns)\n",
    "print(f'countries in GDPpc dataframe: {len(gdp_set)}')\n",
    "print(f'countries in tech.2 centr. dataframe: {len(tech2_set)}')\n",
    "print(f'intersection in GDPpc and tech.2: {len(gdp_set.intersection(tech2_set))}')\n",
    "print(f'intersection rate: {len(gdp_set.intersection(tech2_set)) / min(len(gdp_set), len(tech2_set))}')"
   ]
  },
  {
   "cell_type": "code",
   "execution_count": 9,
   "id": "cb57634c",
   "metadata": {},
   "outputs": [],
   "source": [
    "tech1_years = [1963, 1975, 1990]\n",
    "tech2_years = [1975, 1990, 1999]"
   ]
  },
  {
   "cell_type": "code",
   "execution_count": 13,
   "id": "0b9c2954",
   "metadata": {},
   "outputs": [],
   "source": [
    "tech1_gdp_interc = list(gdp_set.intersection(tech1_set))\n",
    "tech2_gdp_interc = list(gdp_set.intersection(tech2_set))"
   ]
  },
  {
   "cell_type": "code",
   "execution_count": 103,
   "id": "d21c977b",
   "metadata": {},
   "outputs": [],
   "source": [
    "# technology 1 and GDPpc growth \n",
    "n = 20\n",
    "all_corr1 = []\n",
    "for tech1_year in tech1_years:\n",
    "    year_corr = []\n",
    "    for centr in centr_names:\n",
    "        tech_centr_df = pd.read_csv(f'{tech1_centr_path}{centr}.csv', index_col=0)\n",
    "        tech_array = tech_centr_df[tech1_trade_interc].rank(axis=1).loc[tech1_year]\n",
    "        gdppc_array = pwt[tech1_trade_interc].loc[2019] - pwt[tech1_trade_interc].loc[tech1_year+1]\n",
    "        common_df = pd.concat([tech_array, gdppc_array], axis=1)\n",
    "        common_df.columns = ['centr_rank', 'gdppc_change']\n",
    "        common_df = common_df.sort_values(by='centr_rank', ascending=False).dropna()\n",
    "        top_n_gdppc_gr = common_df['gdppc_change'].iloc[:n].values\n",
    "        bottom_n_gdppc_gr = common_df['gdppc_change'].iloc[-n:].values\n",
    "        diff = round(np.mean(top_n_gdppc_gr) - np.mean(bottom_n_gdppc_gr), 3)\n",
    "        stat, pvalue = mannwhitneyu(top_n_gdppc_gr, \n",
    "                                    bottom_n_gdppc_gr, \n",
    "                                    nan_policy='omit', \n",
    "                                    #random_state=seed, \n",
    "                                    alternative='two-sided')\n",
    "        year_corr.append(add_pvlaue_level(coef=diff, pvalue=np.round(pvalue, 5)))\n",
    "    all_corr1.append(year_corr)"
   ]
  },
  {
   "cell_type": "code",
   "execution_count": 104,
   "id": "5066a85d",
   "metadata": {},
   "outputs": [],
   "source": [
    "tech1_gdppc = pd.DataFrame(all_corr1).transpose()\n",
    "tech1_gdppc.index = list(map(lambda x: centrality_names[x], centr_names))\n",
    "tech1_gdppc.columns = ['Technology (F-L, 1963) & GDP p.c. growth (1964-2019)', \n",
    "                        'Technology (F-L, 1975) & GDP p.c. growth (1976-2019)', \n",
    "                        'Technology (F-L, 1990) & GDP p.c. growth (1991-2019)']"
   ]
  },
  {
   "cell_type": "code",
   "execution_count": 105,
   "id": "f3a820c7",
   "metadata": {},
   "outputs": [
    {
     "data": {
      "text/html": [
       "<div>\n",
       "<style scoped>\n",
       "    .dataframe tbody tr th:only-of-type {\n",
       "        vertical-align: middle;\n",
       "    }\n",
       "\n",
       "    .dataframe tbody tr th {\n",
       "        vertical-align: top;\n",
       "    }\n",
       "\n",
       "    .dataframe thead th {\n",
       "        text-align: right;\n",
       "    }\n",
       "</style>\n",
       "<table border=\"1\" class=\"dataframe\">\n",
       "  <thead>\n",
       "    <tr style=\"text-align: right;\">\n",
       "      <th></th>\n",
       "      <th>Technology (F-L, 1963) &amp; GDP p.c. growth (1964-2019)</th>\n",
       "      <th>Technology (F-L, 1975) &amp; GDP p.c. growth (1976-2019)</th>\n",
       "      <th>Technology (F-L, 1990) &amp; GDP p.c. growth (1991-2019)</th>\n",
       "    </tr>\n",
       "  </thead>\n",
       "  <tbody>\n",
       "    <tr>\n",
       "      <th>PageRank Centrality - Unweighted</th>\n",
       "      <td>$26418.337^{***}$</td>\n",
       "      <td>$26376.291^{***}$</td>\n",
       "      <td>$28756.926^{***}$</td>\n",
       "    </tr>\n",
       "    <tr>\n",
       "      <th>PageRank Centrality - Weighted</th>\n",
       "      <td>$28784.11^{***}$</td>\n",
       "      <td>$19029.496^{***}$</td>\n",
       "      <td>$29590.126^{***}$</td>\n",
       "    </tr>\n",
       "    <tr>\n",
       "      <th>Eigenvector Centrality - Unweighted</th>\n",
       "      <td>$26231.071^{***}$</td>\n",
       "      <td>$26933.45^{***}$</td>\n",
       "      <td>$28308.583^{***}$</td>\n",
       "    </tr>\n",
       "    <tr>\n",
       "      <th>Eigenvector Centrality - Weighted</th>\n",
       "      <td>$28029.612^{***}$</td>\n",
       "      <td>$19870.373^{***}$</td>\n",
       "      <td>$28961.533^{***}$</td>\n",
       "    </tr>\n",
       "    <tr>\n",
       "      <th>Degree Centrality - Weighted</th>\n",
       "      <td>$25197.941^{***}$</td>\n",
       "      <td>$26738.932^{***}$</td>\n",
       "      <td>$14337.238^{***}$</td>\n",
       "    </tr>\n",
       "    <tr>\n",
       "      <th>Closeness Centrality - Weighted</th>\n",
       "      <td>$28022.435^{***}$</td>\n",
       "      <td>$22883.529^{***}$</td>\n",
       "      <td>$29037.289^{***}$</td>\n",
       "    </tr>\n",
       "    <tr>\n",
       "      <th>Betweenness Centrality - Unweighted</th>\n",
       "      <td>$13463.255^{***}$</td>\n",
       "      <td>$14206.485^{***}$</td>\n",
       "      <td>$11517.212^{***}$</td>\n",
       "    </tr>\n",
       "    <tr>\n",
       "      <th>Betweenness Centrality - Weighted</th>\n",
       "      <td>$18653.469^{***}$</td>\n",
       "      <td>$16859.562^{***}$</td>\n",
       "      <td>$12871.297^{***}$</td>\n",
       "    </tr>\n",
       "  </tbody>\n",
       "</table>\n",
       "</div>"
      ],
      "text/plain": [
       "                                    Technology (F-L, 1963) & GDP p.c. growth (1964-2019)  \\\n",
       "PageRank Centrality - Unweighted                                     $26418.337^{***}$     \n",
       "PageRank Centrality - Weighted                                        $28784.11^{***}$     \n",
       "Eigenvector Centrality - Unweighted                                  $26231.071^{***}$     \n",
       "Eigenvector Centrality - Weighted                                    $28029.612^{***}$     \n",
       "Degree Centrality - Weighted                                         $25197.941^{***}$     \n",
       "Closeness Centrality - Weighted                                      $28022.435^{***}$     \n",
       "Betweenness Centrality - Unweighted                                  $13463.255^{***}$     \n",
       "Betweenness Centrality - Weighted                                    $18653.469^{***}$     \n",
       "\n",
       "                                    Technology (F-L, 1975) & GDP p.c. growth (1976-2019)  \\\n",
       "PageRank Centrality - Unweighted                                     $26376.291^{***}$     \n",
       "PageRank Centrality - Weighted                                       $19029.496^{***}$     \n",
       "Eigenvector Centrality - Unweighted                                   $26933.45^{***}$     \n",
       "Eigenvector Centrality - Weighted                                    $19870.373^{***}$     \n",
       "Degree Centrality - Weighted                                         $26738.932^{***}$     \n",
       "Closeness Centrality - Weighted                                      $22883.529^{***}$     \n",
       "Betweenness Centrality - Unweighted                                  $14206.485^{***}$     \n",
       "Betweenness Centrality - Weighted                                    $16859.562^{***}$     \n",
       "\n",
       "                                    Technology (F-L, 1990) & GDP p.c. growth (1991-2019)  \n",
       "PageRank Centrality - Unweighted                                     $28756.926^{***}$    \n",
       "PageRank Centrality - Weighted                                       $29590.126^{***}$    \n",
       "Eigenvector Centrality - Unweighted                                  $28308.583^{***}$    \n",
       "Eigenvector Centrality - Weighted                                    $28961.533^{***}$    \n",
       "Degree Centrality - Weighted                                         $14337.238^{***}$    \n",
       "Closeness Centrality - Weighted                                      $29037.289^{***}$    \n",
       "Betweenness Centrality - Unweighted                                  $11517.212^{***}$    \n",
       "Betweenness Centrality - Weighted                                    $12871.297^{***}$    "
      ]
     },
     "execution_count": 105,
     "metadata": {},
     "output_type": "execute_result"
    }
   ],
   "source": [
    "tech1_gdppc"
   ]
  },
  {
   "cell_type": "code",
   "execution_count": 97,
   "id": "b02633e3",
   "metadata": {},
   "outputs": [],
   "source": [
    "# technology 2 and GDPpc growth \n",
    "n = 20\n",
    "all_corr2 = []\n",
    "for tech2_year in tech2_years:\n",
    "    year_corr = []\n",
    "    for centr in centr_names:\n",
    "        tech_centr_df = pd.read_csv(f'{tech2_centr_path}{centr}.csv', index_col=0)\n",
    "        tech_array = tech_centr_df[tech2_trade_interc].rank(axis=1).loc[tech2_year]\n",
    "        gdppc_array = pwt[tech2_trade_interc].loc[2019] - pwt[tech2_trade_interc].loc[tech2_year+1]\n",
    "        common_df = pd.concat([tech_array, gdppc_array], axis=1)\n",
    "        common_df.columns = ['centr_rank', 'gdppc_change']\n",
    "        common_df = common_df.sort_values(by='centr_rank', ascending=False).dropna()\n",
    "        top_n_gdppc_gr = common_df['gdppc_change'].iloc[:n].values\n",
    "        bottom_n_gdppc_gr = common_df['gdppc_change'].iloc[-n:].values\n",
    "        diff = round(np.mean(top_n_gdppc_gr) - np.mean(bottom_n_gdppc_gr), 3)\n",
    "        stat, pvalue = mannwhitneyu(top_n_gdppc_gr, \n",
    "                                  bottom_n_gdppc_gr, \n",
    "                                 nan_policy='omit', \n",
    "                                 #random_state=seed, \n",
    "                                 alternative='two-sided')\n",
    "        year_corr.append(add_pvlaue_level(coef=diff, pvalue=np.round(pvalue, 5)))\n",
    "    all_corr2.append(year_corr)"
   ]
  },
  {
   "cell_type": "code",
   "execution_count": 98,
   "id": "d75faeee",
   "metadata": {},
   "outputs": [],
   "source": [
    "tech2_gdppc = pd.DataFrame(all_corr2).transpose()\n",
    "tech2_gdppc.index = list(map(lambda x: centrality_names[x], centr_names))\n",
    "tech2_gdppc.columns = ['Technology (F-L, 1975) & GDP p.c. growth (1976-2019)', \n",
    "                        'Technology (F-L, 1990) & GDP p.c. growth (1991-2019)', \n",
    "                        'Technology (F-L, 1999) & GDP p.c. growth (2000-2019)']"
   ]
  },
  {
   "cell_type": "code",
   "execution_count": 99,
   "id": "21cba607",
   "metadata": {},
   "outputs": [
    {
     "data": {
      "text/html": [
       "<div>\n",
       "<style scoped>\n",
       "    .dataframe tbody tr th:only-of-type {\n",
       "        vertical-align: middle;\n",
       "    }\n",
       "\n",
       "    .dataframe tbody tr th {\n",
       "        vertical-align: top;\n",
       "    }\n",
       "\n",
       "    .dataframe thead th {\n",
       "        text-align: right;\n",
       "    }\n",
       "</style>\n",
       "<table border=\"1\" class=\"dataframe\">\n",
       "  <thead>\n",
       "    <tr style=\"text-align: right;\">\n",
       "      <th></th>\n",
       "      <th>Technology (F-L, 1975) &amp; GDP p.c. growth (1976-2019)</th>\n",
       "      <th>Technology (F-L, 1990) &amp; GDP p.c. growth (1991-2019)</th>\n",
       "      <th>Technology (F-L, 1999) &amp; GDP p.c. growth (2000-2019)</th>\n",
       "    </tr>\n",
       "  </thead>\n",
       "  <tbody>\n",
       "    <tr>\n",
       "      <th>PageRank Centrality - Unweighted</th>\n",
       "      <td>$24910.399^{***}$</td>\n",
       "      <td>$17302.692^{***}$</td>\n",
       "      <td>$6073.263^{***}$</td>\n",
       "    </tr>\n",
       "    <tr>\n",
       "      <th>PageRank Centrality - Weighted</th>\n",
       "      <td>$25947.365^{***}$</td>\n",
       "      <td>$18373.289^{***}$</td>\n",
       "      <td>$6461.278^{***}$</td>\n",
       "    </tr>\n",
       "    <tr>\n",
       "      <th>Eigenvector Centrality - Unweighted</th>\n",
       "      <td>$24910.399^{***}$</td>\n",
       "      <td>$18088.59^{***}$</td>\n",
       "      <td>$6714.278^{***}$</td>\n",
       "    </tr>\n",
       "    <tr>\n",
       "      <th>Eigenvector Centrality - Weighted</th>\n",
       "      <td>$25263.334^{***}$</td>\n",
       "      <td>$18373.289^{***}$</td>\n",
       "      <td>$6699.229^{***}$</td>\n",
       "    </tr>\n",
       "    <tr>\n",
       "      <th>Degree Centrality - Weighted</th>\n",
       "      <td>$24233.485^{***}$</td>\n",
       "      <td>$18726.03^{***}$</td>\n",
       "      <td>$5530.187^{***}$</td>\n",
       "    </tr>\n",
       "    <tr>\n",
       "      <th>Closeness Centrality - Weighted</th>\n",
       "      <td>$26258.314^{***}$</td>\n",
       "      <td>$18316.811^{***}$</td>\n",
       "      <td>$7449.129^{***}$</td>\n",
       "    </tr>\n",
       "    <tr>\n",
       "      <th>Betweenness Centrality - Unweighted</th>\n",
       "      <td>$13656.467^{***}$</td>\n",
       "      <td>$13831.501^{***}$</td>\n",
       "      <td>$8167.12^{***}$</td>\n",
       "    </tr>\n",
       "    <tr>\n",
       "      <th>Betweenness Centrality - Weighted</th>\n",
       "      <td>$32286.636^{***}$</td>\n",
       "      <td>$8625.158^{***}$</td>\n",
       "      <td>$5746.071^{***}$</td>\n",
       "    </tr>\n",
       "  </tbody>\n",
       "</table>\n",
       "</div>"
      ],
      "text/plain": [
       "                                    Technology (F-L, 1975) & GDP p.c. growth (1976-2019)  \\\n",
       "PageRank Centrality - Unweighted                                     $24910.399^{***}$     \n",
       "PageRank Centrality - Weighted                                       $25947.365^{***}$     \n",
       "Eigenvector Centrality - Unweighted                                  $24910.399^{***}$     \n",
       "Eigenvector Centrality - Weighted                                    $25263.334^{***}$     \n",
       "Degree Centrality - Weighted                                         $24233.485^{***}$     \n",
       "Closeness Centrality - Weighted                                      $26258.314^{***}$     \n",
       "Betweenness Centrality - Unweighted                                  $13656.467^{***}$     \n",
       "Betweenness Centrality - Weighted                                    $32286.636^{***}$     \n",
       "\n",
       "                                    Technology (F-L, 1990) & GDP p.c. growth (1991-2019)  \\\n",
       "PageRank Centrality - Unweighted                                     $17302.692^{***}$     \n",
       "PageRank Centrality - Weighted                                       $18373.289^{***}$     \n",
       "Eigenvector Centrality - Unweighted                                   $18088.59^{***}$     \n",
       "Eigenvector Centrality - Weighted                                    $18373.289^{***}$     \n",
       "Degree Centrality - Weighted                                          $18726.03^{***}$     \n",
       "Closeness Centrality - Weighted                                      $18316.811^{***}$     \n",
       "Betweenness Centrality - Unweighted                                  $13831.501^{***}$     \n",
       "Betweenness Centrality - Weighted                                     $8625.158^{***}$     \n",
       "\n",
       "                                    Technology (F-L, 1999) & GDP p.c. growth (2000-2019)  \n",
       "PageRank Centrality - Unweighted                                      $6073.263^{***}$    \n",
       "PageRank Centrality - Weighted                                        $6461.278^{***}$    \n",
       "Eigenvector Centrality - Unweighted                                   $6714.278^{***}$    \n",
       "Eigenvector Centrality - Weighted                                     $6699.229^{***}$    \n",
       "Degree Centrality - Weighted                                          $5530.187^{***}$    \n",
       "Closeness Centrality - Weighted                                       $7449.129^{***}$    \n",
       "Betweenness Centrality - Unweighted                                    $8167.12^{***}$    \n",
       "Betweenness Centrality - Weighted                                     $5746.071^{***}$    "
      ]
     },
     "execution_count": 99,
     "metadata": {},
     "output_type": "execute_result"
    }
   ],
   "source": [
    "tech2_gdppc"
   ]
  },
  {
   "cell_type": "code",
   "execution_count": null,
   "id": "a42480ba",
   "metadata": {},
   "outputs": [],
   "source": []
  }
 ],
 "metadata": {
  "kernelspec": {
   "display_name": "Python 3 (ipykernel)",
   "language": "python",
   "name": "python3"
  },
  "language_info": {
   "codemirror_mode": {
    "name": "ipython",
    "version": 3
   },
   "file_extension": ".py",
   "mimetype": "text/x-python",
   "name": "python",
   "nbconvert_exporter": "python",
   "pygments_lexer": "ipython3",
   "version": "3.10.5"
  }
 },
 "nbformat": 4,
 "nbformat_minor": 5
}
